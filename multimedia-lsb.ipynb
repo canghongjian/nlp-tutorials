{
 "cells": [
  {
   "cell_type": "code",
   "execution_count": 29,
   "id": "24eae27e",
   "metadata": {},
   "outputs": [],
   "source": [
    "import os\n",
    "from PIL import Image, ImageMath\n",
    "import matplotlib.pyplot as plt\n",
    "import numpy as np\n",
    "\n",
    "def lsb_encoder(copyright_image, original_image):\n",
    "    # 0: 将image类型转化为numpy数组\n",
    "    original_image = np.array(original_image)\n",
    "    copyright_image = np.array(copyright_image)\n",
    "    # 1: 确保输入图像为8bits无符号整型\n",
    "    original_image = original_image.astype(np.uint8)\n",
    "    copyright_image = copyright_image.astype(np.uint8)\n",
    "    \n",
    "    # 2: 对original图像和copyright图像备份，不能在原图上更改\n",
    "    watermark = original_image.copy() \n",
    "    copyright = copyright_image.copy() \n",
    "    \n",
    "    # 3：将copyright二值化，使其仅含0和1，用1bit表示\n",
    "    copyright[copyright<200] = 1\n",
    "    copyright[copyright>=200] = 0\n",
    "\n",
    "    # 4：将watermark的最后1bit的R、G、B全部置零\n",
    "    #     也可以仅仅对R通道置零\n",
    "    for i in range(0, watermark.shape[0]):\n",
    "        for j in range(0, watermark.shape[1]):\n",
    "            watermark[i, j , :] = (watermark[i, j, :]//2)*2\n",
    "            \n",
    "    for i in range(0, copyright.shape[0]):\n",
    "        for j in range(0, copyright.shape[1]):\n",
    "            # 5：将用1bit表示的二值化的水印信息\n",
    "            #   添加到watermark最后1bit上\n",
    "            watermark[i, j, 0] = watermark[i, j, 0] + copyright[i, j, 0]\n",
    "        \n",
    "    return watermark\n",
    "\n",
    "def lsb_decoder(watermark_image):\n",
    "    watermark_image = watermark_image.astype(np.uint8)\n",
    "    \n",
    "    return (watermark_image % 2) * 255\n",
    "\n",
    "path = os.path.join(\"/root/notebook/\")\n",
    "original_image = Image.open(path + \"lena.bmp\")\n",
    "copyright_image = Image.open(path + \"copyright_lsb.png\")\n",
    "en_im = lsb_encoder(copyright_image, original_image) # 嵌入版权信息后的图片\n",
    "de_im = lsb_decoder(en_im) # 提取版权信息\n"
   ]
  },
  {
   "cell_type": "code",
   "execution_count": 34,
   "id": "546193a0",
   "metadata": {},
   "outputs": [
    {
     "data": {
      "text/plain": [
       "<matplotlib.image.AxesImage at 0x7f8b760a1490>"
      ]
     },
     "execution_count": 34,
     "metadata": {},
     "output_type": "execute_result"
    },
    {
     "data": {
      "image/png": "[encoded data removed]",
      "text/plain": [
       "<Figure size 432x288 with 1 Axes>"
      ]
     },
     "metadata": {
      "needs_background": "light"
     },
     "output_type": "display_data"
    }
   ],
   "source": [
    "plt.imshow(de_im)"
   ]
  }
 ],
 "metadata": {
  "kernelspec": {
   "display_name": "Python 3",
   "language": "python",
   "name": "python3"
  },
  "language_info": {
   "codemirror_mode": {
    "name": "ipython",
    "version": 3
   },
   "file_extension": ".py",
   "mimetype": "text/x-python",
   "name": "python",
   "nbconvert_exporter": "python",
   "pygments_lexer": "ipython3",
   "version": "3.7.7"
  }
 },
 "nbformat": 4,
 "nbformat_minor": 5
}
