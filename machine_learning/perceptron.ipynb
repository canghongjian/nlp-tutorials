{
 "cells": [
  {
   "cell_type": "code",
   "execution_count": 2,
   "id": "7f0ad71f",
   "metadata": {},
   "outputs": [],
   "source": [
    "import numpy as np\n",
    "import random\n",
    "import matplotlib.pyplot as plt"
   ]
  },
  {
   "cell_type": "code",
   "execution_count": 7,
   "id": "9e909504",
   "metadata": {},
   "outputs": [
    {
     "name": "stdout",
     "output_type": "stream",
     "text": [
      "[[3 3]\n",
      " [2 2]\n",
      " [1 1]]\n",
      "[ 1  1 -1]\n"
     ]
    }
   ],
   "source": [
    "def create_data():\n",
    "    train_data = [[[3,3], 1], [[2, 2], 1], [[1, 1], -1]]\n",
    "    feature = []\n",
    "    label = []\n",
    "    for item in train_data:\n",
    "        feature.append(item[0])\n",
    "        label.append(item[1])\n",
    "    feature = np.array(feature)\n",
    "    label = np.array(label)\n",
    "    return feature, label\n"
   ]
  },
  {
   "cell_type": "code",
   "execution_count": 12,
   "id": "fea30226",
   "metadata": {},
   "outputs": [],
   "source": [
    "class perceptron:\n",
    "    def __init__(self, feature, label):\n",
    "        self.w = np.array([0, 0])\n",
    "        self.b = 0\n",
    "        self.lr = 1\n",
    "        self.feature = feature\n",
    "        self.label = label\n",
    "    \n",
    "    def update(self, x, y):\n",
    "        self.w = self.w + self.lr * y * x\n",
    "        self.b = self.b + self.lr * y\n",
    "        \n",
    "    def sign(self, x, y):\n",
    "        return np.sign((np.dot(self.w, x) + self.b) * y)\n",
    "    \n",
    "    def train(self):\n",
    "        flag = True\n",
    "        while flag:\n",
    "            flag = False\n",
    "            for i in range(len(self.feature)):\n",
    "                if self.sign(self.feature[i], self.label[i]) <= 0:\n",
    "                    print(\"误分点：\", self.feature[i])\n",
    "                    self.update(self.feature[i], self.label[i])\n",
    "                    flag = True\n",
    "        print(\"最终参数：w:\",self.w, \" b:\", self.b)\n",
    "        return self.w, self.b\n"
   ]
  },
  {
   "cell_type": "code",
   "execution_count": 13,
   "id": "711e41a1",
   "metadata": {},
   "outputs": [
    {
     "name": "stdout",
     "output_type": "stream",
     "text": [
      "误分点： [3 3]\n",
      "误分点： [1 1]\n",
      "误分点： [1 1]\n",
      "误分点： [1 1]\n",
      "误分点： [3 3]\n",
      "误分点： [1 1]\n",
      "误分点： [1 1]\n",
      "最终参数：w: [1 1]  b: -3\n"
     ]
    },
    {
     "data": {
      "text/plain": [
       "(array([1, 1]), -3)"
      ]
     },
     "execution_count": 13,
     "metadata": {},
     "output_type": "execute_result"
    }
   ],
   "source": [
    "feature, label = create_data()\n",
    "p = perceptron(feature, label)\n",
    "p.train()"
   ]
  },
  {
   "cell_type": "code",
   "execution_count": 34,
   "id": "7aaa8b50",
   "metadata": {},
   "outputs": [],
   "source": [
    "class dual_perceptron:\n",
    "    def __init__(self, feature, label):\n",
    "        self.lr = 1\n",
    "        self.b = 0\n",
    "        self.feature = feature\n",
    "        self.label = label\n",
    "        self.a = np.zeros(len(feature))\n",
    "        self.gram = np.zeros([len(feature), len(feature)])\n",
    "        for i in range(len(feature)):\n",
    "            for j in range(len(feature)):\n",
    "                self.gram[i][j] = np.dot(feature[i], feature[j])\n",
    "        print(self.gram)\n",
    "    \n",
    "    def update(self, idx):\n",
    "        self.a[idx] += self.lr\n",
    "        self.b += self.lr * self.label[idx]\n",
    "        \n",
    "    def sign(self, idx):\n",
    "        res = 0\n",
    "        for i in range(len(self.feature)):\n",
    "            res += self.a[i] * self.label[i] * self.gram[idx][i]\n",
    "        return np.sign((res + self.b) * self.label[idx])\n",
    "    \n",
    "    def train(self):\n",
    "        flag = True\n",
    "        while flag:\n",
    "            flag = False\n",
    "            for i in range(len(self.feature)):\n",
    "                if self.sign(i) <= 0:\n",
    "                    print(\"更新feature：\", self.feature[i], \" 更新前a：\", self.a, \" 更新前b:\", self.b)\n",
    "                    self.update(i)\n",
    "                    print(\" 更新后a：\", self.a, \" 更新后b:\", self.b)\n",
    "                    flag = True\n",
    "        w = [0,0]\n",
    "        for i in range(len(self.feature)):\n",
    "            w += self.a[i] * self.feature[i] * self.label[i]\n",
    "        print(\"训练结束：w:\", w, \" b:\", self.b)\n",
    "        return w, self.b"
   ]
  },
  {
   "cell_type": "code",
   "execution_count": 35,
   "id": "120ccd71",
   "metadata": {},
   "outputs": [
    {
     "name": "stdout",
     "output_type": "stream",
     "text": [
      "[[18. 21.  6.]\n",
      " [21. 25.  7.]\n",
      " [ 6.  7.  2.]]\n",
      "更新feature： [3 3]  更新前a： [0. 0. 0.]  更新前b: 0\n",
      " 更新后a： [1. 0. 0.]  更新后b: 1\n",
      "更新feature： [1 1]  更新前a： [1. 0. 0.]  更新前b: 1\n",
      " 更新后a： [1. 0. 1.]  更新后b: 0\n",
      "更新feature： [1 1]  更新前a： [1. 0. 1.]  更新前b: 0\n",
      " 更新后a： [1. 0. 2.]  更新后b: -1\n",
      "更新feature： [1 1]  更新前a： [1. 0. 2.]  更新前b: -1\n",
      " 更新后a： [1. 0. 3.]  更新后b: -2\n",
      "更新feature： [3 3]  更新前a： [1. 0. 3.]  更新前b: -2\n",
      " 更新后a： [2. 0. 3.]  更新后b: -1\n",
      "更新feature： [1 1]  更新前a： [2. 0. 3.]  更新前b: -1\n",
      " 更新后a： [2. 0. 4.]  更新后b: -2\n",
      "更新feature： [1 1]  更新前a： [2. 0. 4.]  更新前b: -2\n",
      " 更新后a： [2. 0. 5.]  更新后b: -3\n",
      "训练结束：w: [1. 1.]  b: -3\n"
     ]
    },
    {
     "data": {
      "text/plain": [
       "(array([1., 1.]), -3)"
      ]
     },
     "execution_count": 35,
     "metadata": {},
     "output_type": "execute_result"
    }
   ],
   "source": [
    "feature[1] = np.array([4,3])\n",
    "d_p = dual_perceptron(feature, label)\n",
    "d_p.train()"
   ]
  },
  {
   "cell_type": "code",
   "execution_count": 27,
   "id": "7421cb07",
   "metadata": {},
   "outputs": [
    {
     "name": "stdout",
     "output_type": "stream",
     "text": [
      "3\n"
     ]
    },
    {
     "ename": "TypeError",
     "evalue": "unsupported operand type(s) for +: 'int' and 'list'",
     "output_type": "error",
     "traceback": [
      "\u001b[0;31m---------------------------------------------------------------------------\u001b[0m",
      "\u001b[0;31mTypeError\u001b[0m                                 Traceback (most recent call last)",
      "\u001b[0;32m<ipython-input-27-51ede265e3c4>\u001b[0m in \u001b[0;36m<module>\u001b[0;34m\u001b[0m\n\u001b[1;32m      1\u001b[0m \u001b[0mt\u001b[0m \u001b[0;34m=\u001b[0m \u001b[0mnp\u001b[0m\u001b[0;34m.\u001b[0m\u001b[0marray\u001b[0m\u001b[0;34m(\u001b[0m\u001b[0;34m[\u001b[0m\u001b[0;36m1\u001b[0m\u001b[0;34m,\u001b[0m\u001b[0;36m1\u001b[0m\u001b[0;34m]\u001b[0m\u001b[0;34m)\u001b[0m\u001b[0;34m\u001b[0m\u001b[0;34m\u001b[0m\u001b[0m\n\u001b[1;32m      2\u001b[0m \u001b[0mprint\u001b[0m\u001b[0;34m(\u001b[0m\u001b[0mnp\u001b[0m\u001b[0;34m.\u001b[0m\u001b[0mdot\u001b[0m\u001b[0;34m(\u001b[0m\u001b[0;34m[\u001b[0m\u001b[0;36m2\u001b[0m\u001b[0;34m,\u001b[0m\u001b[0;36m1\u001b[0m\u001b[0;34m]\u001b[0m\u001b[0;34m,\u001b[0m \u001b[0mt\u001b[0m\u001b[0;34m)\u001b[0m\u001b[0;34m)\u001b[0m\u001b[0;34m\u001b[0m\u001b[0;34m\u001b[0m\u001b[0m\n\u001b[0;32m----> 3\u001b[0;31m \u001b[0mprint\u001b[0m\u001b[0;34m(\u001b[0m\u001b[0msum\u001b[0m\u001b[0;34m(\u001b[0m\u001b[0;34m[\u001b[0m\u001b[0;34m[\u001b[0m\u001b[0;36m2\u001b[0m\u001b[0;34m,\u001b[0m\u001b[0;36m1\u001b[0m\u001b[0;34m]\u001b[0m\u001b[0;34m,\u001b[0m\u001b[0;34m[\u001b[0m\u001b[0;36m1\u001b[0m\u001b[0;34m,\u001b[0m\u001b[0;36m1\u001b[0m\u001b[0;34m]\u001b[0m\u001b[0;34m]\u001b[0m\u001b[0;34m)\u001b[0m\u001b[0;34m)\u001b[0m\u001b[0;34m\u001b[0m\u001b[0;34m\u001b[0m\u001b[0m\n\u001b[0m",
      "\u001b[0;31mTypeError\u001b[0m: unsupported operand type(s) for +: 'int' and 'list'"
     ]
    }
   ],
   "source": [
    "t = np.array([1,1])\n",
    "print(np.dot([2,1], t))\n",
    "print(sum([[2,1],[1,1]]))"
   ]
  },
  {
   "cell_type": "code",
   "execution_count": null,
   "id": "f452c070",
   "metadata": {},
   "outputs": [],
   "source": []
  }
 ],
 "metadata": {
  "kernelspec": {
   "display_name": "Python 3",
   "language": "python",
   "name": "python3"
  },
  "language_info": {
   "codemirror_mode": {
    "name": "ipython",
    "version": 3
   },
   "file_extension": ".py",
   "mimetype": "text/x-python",
   "name": "python",
   "nbconvert_exporter": "python",
   "pygments_lexer": "ipython3",
   "version": "3.7.7"
  }
 },
 "nbformat": 4,
 "nbformat_minor": 5
}
