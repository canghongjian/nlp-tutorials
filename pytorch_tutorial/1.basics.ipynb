{
 "cells": [
  {
   "cell_type": "code",
   "execution_count": 2,
   "id": "8efd22cc",
   "metadata": {},
   "outputs": [],
   "source": [
    "import torch\n",
    "import torchvision\n",
    "import torch.nn as nn\n",
    "import numpy as np\n",
    "import torchvision.transforms as transforms\n"
   ]
  },
  {
   "cell_type": "markdown",
   "id": "73c1d59e",
   "metadata": {},
   "source": [
    "# 目录：\n",
    "## 1. Basic autograd example 1\n",
    "## 2. Basic autograd example 2\n",
    "## 3. Loading Data from Numpy\n",
    "## 4. Input pipline\n",
    "## 5. Input pipline for custom dataset\n",
    "## 6. Pretrained model\n",
    "## 7. Save and load model"
   ]
  },
  {
   "cell_type": "code",
   "execution_count": 23,
   "id": "879377ed",
   "metadata": {},
   "outputs": [
    {
     "name": "stdout",
     "output_type": "stream",
     "text": [
      "x.grad: tensor(20.)  w.grad: tensor(10.)  b.grad tensor(10.)\n"
     ]
    }
   ],
   "source": [
    "# 1. Basic autograd example 1\n",
    "# create tensors\n",
    "x = torch.tensor(1., requires_grad=True)\n",
    "w = torch.tensor(2., requires_grad=True)\n",
    "b = torch.tensor(3., requires_grad=True)\n",
    "\n",
    "# Build a computational graph. 建立计算图\n",
    "y = (w * x + b) ** 2\n",
    "\n",
    "# 计算梯度\n",
    "y.backward()\n",
    "\n",
    "# 输出梯度\n",
    "print(\"x.grad:\", x.grad, \" w.grad:\", w.grad, \" b.grad\", b.grad)\n"
   ]
  },
  {
   "cell_type": "markdown",
   "id": "30b5efe9",
   "metadata": {},
   "source": [
    "x的梯度即为y对x求偏导，再代入x的值的结果。\n",
    "\n",
    "dy/dx = w, dy/dw = x, dy/db = 1\n",
    "\n",
    "代入x、w、b的值由此可求出x、w、b的梯度"
   ]
  },
  {
   "cell_type": "code",
   "execution_count": 39,
   "id": "373154d4",
   "metadata": {
    "scrolled": true
   },
   "outputs": [
    {
     "name": "stdout",
     "output_type": "stream",
     "text": [
      "w:  Parameter containing:\n",
      "tensor([[-0.0146, -0.2289, -0.2957,  0.4126,  0.2726],\n",
      "        [ 0.0514,  0.0362, -0.3249, -0.3307,  0.0771],\n",
      "        [-0.3290,  0.1781, -0.1378,  0.3778,  0.1981]], requires_grad=True)\n",
      "b:  Parameter containing:\n",
      "tensor([-0.4289,  0.1331,  0.4228], requires_grad=True)\n",
      "loss:  1.2896790504455566\n",
      "loss2: 1.2896790504455566\n",
      "theory_grad:dL/dw = 2*(pred - y) * x / n, where n means the length of y(here is 20 * 3): \n",
      " tensor([[ 0.0173, -0.1220, -0.2418,  0.2516,  0.1707],\n",
      "        [-0.0826, -0.0309, -0.2013, -0.0494, -0.0718],\n",
      "        [-0.1695,  0.2735, -0.3993,  0.1538,  0.2530]], grad_fn=<DivBackward0>)\n",
      "theory_grad:dL/db = 2*(pred - y) / n: \n",
      " tensor([-0.1025,  0.0395,  0.2876], grad_fn=<DivBackward0>)\n",
      "dL/dw:  tensor([[ 0.0173, -0.1220, -0.2418,  0.2516,  0.1707],\n",
      "        [-0.0826, -0.0309, -0.2013, -0.0494, -0.0718],\n",
      "        [-0.1695,  0.2735, -0.3993,  0.1538,  0.2530]])\n",
      "dL/db:  tensor([-0.1025,  0.0395,  0.2876])\n",
      "wnew: tensor([[-0.0148, -0.2277, -0.2933,  0.4101,  0.2709],\n",
      "        [ 0.0522,  0.0365, -0.3229, -0.3302,  0.0778],\n",
      "        [-0.3273,  0.1754, -0.1338,  0.3762,  0.1956]], grad_fn=<SubBackward0>)\n",
      "bnew: tensor([-0.4279,  0.1327,  0.4199], grad_fn=<SubBackward0>)\n",
      "loss after 1 step optimization:  1.2830297946929932\n",
      "w:  Parameter containing:\n",
      "tensor([[-0.0148, -0.2277, -0.2933,  0.4101,  0.2709],\n",
      "        [ 0.0522,  0.0365, -0.3229, -0.3302,  0.0778],\n",
      "        [-0.3273,  0.1754, -0.1338,  0.3762,  0.1956]], requires_grad=True)  b: Parameter containing:\n",
      "tensor([-0.4279,  0.1327,  0.4199], requires_grad=True)\n"
     ]
    }
   ],
   "source": [
    "# 2. Basic autograd example 2\n",
    "# 创建张量\n",
    "x = torch.randn(45, 5)  # 创建10*3的随机张量 其中填充了标准正态分布的值，即均值为0，方差为1\n",
    "y = torch.randn(45, 3)  # 创建10*2的随机张量\n",
    "\n",
    "# 创建全连接层\n",
    "linear = nn.Linear(5, 3)\n",
    "print(\"w: \", linear.weight)\n",
    "print(\"b: \", linear.bias)\n",
    "\n",
    "# 创建损失函数和optimizer\n",
    "criterion =  nn.MSELoss()  # 使用MSE（均方误差）损失函数\n",
    "optimizer = torch.optim.SGD(linear.parameters(), lr=0.01) # 使用SGD（随机梯度下降）作为优化器，学习率为0.01\n",
    "\n",
    "# 前向传递\n",
    "pred = linear(x) # 等价于pred = torch.mm(x, linear.weight.T) + linear.bias 这里相加使用了广播机制\n",
    "#print(\"pred:\", pred, \"\\nwx+b:\", torch.mm(x, linear.weight.T))\n",
    "# 计算误差\n",
    "loss = criterion(pred, y)\n",
    "print(\"loss: \", loss.item())\n",
    "loss2 = torch.mean((pred-y)**2) # \n",
    "print(\"loss2:\", loss2.item())\n",
    "# 反向传递\n",
    "loss.backward()\n",
    "\n",
    "# 理论计算梯度： 需要注意向量对标量求导、向量对向量求导的区别 https://wenku.baidu.com/view/a3cba05602f69e3143323968011ca300a6c3f6a2.html\n",
    "w_theory_grad = torch.div(2*torch.mm((pred - y).T, x), y.shape[0] * y.shape[1])\n",
    "b_theory_grad = torch.div(2*torch.sum((pred - y), dim=0), y.shape[0] * y.shape[1])\n",
    "print(\"theory_grad:dL/dw = 2*(pred - y) * x / n, where n means the length of y(here is 20 * 3): \\n\", w_theory_grad)\n",
    "print(\"theory_grad:dL/db = 2*(pred - y) / n: \\n\", b_theory_grad)\n",
    "# 打印梯度\n",
    "print ('dL/dw: ', linear.weight.grad) \n",
    "print ('dL/db: ', linear.bias.grad)\n",
    "\n",
    "print(\"wnew:\", linear.weight - 0.01 * linear.weight.grad)\n",
    "print(\"bnew:\", linear.bias - 0.01 * linear.bias.grad)\n",
    "# 进行一步的梯度下降\n",
    "optimizer.step()   # wnew = wold - lr * dL/dw\n",
    "\n",
    "# You can also perform gradient descent at the low level.\n",
    "# linear.weight.data.sub_(0.01 * linear.weight.grad.data)\n",
    "# linear.bias.data.sub_(0.01 * linear.bias.grad.data)\n",
    "\n",
    "# 再打印更新参数后的损失\n",
    "pred = linear(x)\n",
    "loss = criterion(pred, y)\n",
    "print(\"loss after 1 step optimization: \", loss.item())\n",
    "print(\"w: \", linear.weight, \" b:\", linear.bias) # linear.weight == wnew"
   ]
  },
  {
   "cell_type": "code",
   "execution_count": 4,
   "id": "55a9814e",
   "metadata": {},
   "outputs": [
    {
     "name": "stdout",
     "output_type": "stream",
     "text": [
      "y:  tensor([[1, 2],\n",
      "        [3, 4]])\n",
      "z:  [[1 2]\n",
      " [3 4]]\n"
     ]
    }
   ],
   "source": [
    "# 3. load data from numpy\n",
    "\n",
    "x = np.array([[1, 2], [3, 4]])\n",
    "\n",
    "# convert the numpy array to a torch tensor\n",
    "y = torch.from_numpy(x)\n",
    "\n",
    "# convert the torch tensor to a numpy array\n",
    "z = y.numpy()\n",
    "\n",
    "print(\"y: \", y)\n",
    "print(\"z: \", z)"
   ]
  },
  {
   "cell_type": "code",
   "execution_count": 5,
   "id": "0ca7103d",
   "metadata": {},
   "outputs": [
    {
     "name": "stdout",
     "output_type": "stream",
     "text": [
      "Downloading https://www.cs.toronto.edu/~kriz/cifar-10-python.tar.gz to ../../data/cifar-10-python.tar.gz\n"
     ]
    },
    {
     "data": {
      "application/vnd.jupyter.widget-view+json": {
       "model_id": "bc020130f18145a8b2189eb9004948ab",
       "version_major": 2,
       "version_minor": 0
      },
      "text/plain": [
       "HBox(children=(FloatProgress(value=1.0, bar_style='info', max=1.0), HTML(value='')))"
      ]
     },
     "metadata": {},
     "output_type": "display_data"
    },
    {
     "name": "stdout",
     "output_type": "stream",
     "text": [
      "Extracting ../../data/cifar-10-python.tar.gz to ../../data/\n",
      "torch.Size([3, 32, 32])\n",
      "6\n"
     ]
    }
   ],
   "source": [
    "# 4. Input pipeline\n",
    "\n",
    "# Download and construct CIFAR-10 dataset\n",
    "train_dataset = torchvision.datasets.CIFAR10(root='../../data/', train=True, transform=transforms.ToTensor(), download=True)\n",
    "\n",
    "# Fetch one data pair (read data from disk)\n",
    "image, label = train_dataset[0]\n",
    "print(image.size())\n",
    "print(label)"
   ]
  },
  {
   "cell_type": "code",
   "execution_count": 12,
   "id": "fa3256cb",
   "metadata": {},
   "outputs": [
    {
     "data": {
      "text/plain": [
       "<matplotlib.image.AxesImage at 0x7fcedab8b790>"
      ]
     },
     "execution_count": 12,
     "metadata": {},
     "output_type": "execute_result"
    },
    {
     "data": {
      "image/png": "[encoded data removed]",
      "text/plain": [
       "<Figure size 432x288 with 1 Axes>"
      ]
     },
     "metadata": {
      "needs_background": "light"
     },
     "output_type": "display_data"
    }
   ],
   "source": [
    "# 显示读到的图片\n",
    "import matplotlib.pyplot as plt\n",
    "unloader = transforms.ToPILImage()\n",
    "def tensor_to_PIL(tensor):\n",
    "    image = tensor.cpu().clone()\n",
    "    image = image.squeeze(0)\n",
    "    image = unloader(image)\n",
    "    return image\n",
    "\n",
    "img_t_i=tensor_to_PIL(image)\n",
    "# img_t_i\n",
    "plt.imshow(img_t_i)"
   ]
  },
  {
   "cell_type": "code",
   "execution_count": 20,
   "id": "c2473571",
   "metadata": {},
   "outputs": [],
   "source": [
    "# Data loader (this provides queues and threads in a very simple way)\n",
    "train_loader = torch.utils.data.DataLoader(dataset=train_dataset, batch_size=64, shuffle=True)\n",
    "\n",
    "# 迭代开始时，队列和进程从文件中读取数据\n",
    "data_iter = iter(train_loader)\n",
    "\n",
    "# Mini-batch images and labels\n",
    "images, labels = data_iter.next()\n",
    "\n",
    "# 实际对data_loader的使用如下\n",
    "for images, labels in train_loader:\n",
    "    # 下面应该是训练代码\n",
    "    # 好玩：显示图片\n",
    "#     f = plt.figure()\n",
    "#     for i in range(len(images)):\n",
    "#         f.add_subplot(1, 64, i+1)\n",
    "#         img_t_i=tensor_to_PIL(images[i])\n",
    "#         # img_t_i\n",
    "#         plt.imshow(img_t_i)\n",
    "#         plt.show(block=True)\n",
    "#     break\n",
    "    pass"
   ]
  },
  {
   "cell_type": "code",
   "execution_count": 22,
   "id": "a3ac7eb9",
   "metadata": {},
   "outputs": [],
   "source": [
    "# 5.Input pipeline for custom dataset\n",
    "# You should build your custom dataset as below\n",
    "class CustomDataset(torch.utils.data.Dataset):\n",
    "    def __init__(self):\n",
    "        # TODO\n",
    "        # 1. Initialize file paths or a list of file names.\n",
    "        pass\n",
    "    def __getitem__(self, index):\n",
    "        # TODO\n",
    "        # 1.Read one data from file(e.g. using numpy.fromfile, PIL.Image.open).\n",
    "        # 2.Preprocess the data(e.g. torchvision.Transform).\n",
    "        # 3.Return a data pair(e.g. image and label)\n",
    "        pass\n",
    "    def __len__(self):\n",
    "        # You should change 0 to the total size of your dataset\n",
    "        return 0\n",
    "    \n",
    "# You can then use the prebuilt data loader\n",
    "custom_dataset = CustomDataset()\n",
    "train_loader = torch.utils.data.DataLoader(dataset=custom_dataset,\n",
    "                                          batch_size=64,\n",
    "                                          shuffle=True)"
   ]
  },
  {
   "cell_type": "code",
   "execution_count": 24,
   "id": "7da72237",
   "metadata": {},
   "outputs": [
    {
     "name": "stdout",
     "output_type": "stream",
     "text": [
      "torch.Size([64, 100])\n"
     ]
    }
   ],
   "source": [
    "# 6.Pretrained model\n",
    "# Download and load the pretrained ResNet-18\n",
    "resnet = torchvision.models.resnet18(pretrained=True)\n",
    "\n",
    "# If you want to finetune only the top layer of the model, set as below:\n",
    "for param in resnet.parameters():\n",
    "    param.requires_grad = False\n",
    "\n",
    "# Replace the top layer for finetuning\n",
    "resnet.fc = nn.Linear(resnet.fc.in_features, 100) # 100 is an example\n",
    "\n",
    "# Forward pass\n",
    "images = torch.randn(64, 3, 224, 224)\n",
    "outputs = resnet(images)\n",
    "print(outputs.size()) # (64, 100)"
   ]
  },
  {
   "cell_type": "code",
   "execution_count": 25,
   "id": "6a56ebf8",
   "metadata": {},
   "outputs": [
    {
     "data": {
      "text/plain": [
       "<All keys matched successfully>"
      ]
     },
     "execution_count": 25,
     "metadata": {},
     "output_type": "execute_result"
    }
   ],
   "source": [
    "# 7.save and load the model\n",
    "# save and load the entire model\n",
    "torch.save(resnet, 'model.ckpt')\n",
    "model = torch.load('model.ckpt')\n",
    "\n",
    "# Save and load only the model parameters (recommended)\n",
    "torch.save(resnet.state_dict(), 'params.ckpt')\n",
    "resnet.load_state_dict(torch.load('params.ckpt'))"
   ]
  }
 ],
 "metadata": {
  "kernelspec": {
   "display_name": "Python 3",
   "language": "python",
   "name": "python3"
  },
  "language_info": {
   "codemirror_mode": {
    "name": "ipython",
    "version": 3
   },
   "file_extension": ".py",
   "mimetype": "text/x-python",
   "name": "python",
   "nbconvert_exporter": "python",
   "pygments_lexer": "ipython3",
   "version": "3.7.7"
  }
 },
 "nbformat": 4,
 "nbformat_minor": 5
}
