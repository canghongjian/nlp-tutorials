{
 "cells": [
  {
   "cell_type": "code",
   "execution_count": 1,
   "id": "a902c192",
   "metadata": {},
   "outputs": [],
   "source": [
    "# 本文实现NNLM（神经网络语言模型）\n",
    "import torch\n",
    "import torch.nn as nn\n",
    "import torch.optim as optim"
   ]
  },
  {
   "cell_type": "code",
   "execution_count": 7,
   "id": "4df14ac1",
   "metadata": {},
   "outputs": [],
   "source": [
    "# Model\n",
    "class NNLM(nn.Module):\n",
    "    def __init__(self):\n",
    "        super(NNLM, self).__init__()\n",
    "        self.C = nn.Embedding(n_class, m)\n",
    "        self.H = nn.Linear(n_step * m, n_hidden, bias=False)\n",
    "        self.d = nn.Parameter(torch.ones(n_hidden))\n",
    "        self.U = nn.Linear(n_hidden, n_class, bias=False)\n",
    "        self.W = nn.Linear(n_step * m, n_class, bias=False)\n",
    "        self.b = nn.Parameter(torch.ones(n_class))\n",
    "        \n",
    "    def forward(self, X):\n",
    "        X = self.C(X) # X: [batch_size, n_step, m]\n",
    "        X = X.view(-1, n_step * m) # [batch_size, n_step * m]\n",
    "        tanh = torch.tanh(self.d + self.H(X)) # [batch_size, n_hidden]\n",
    "        output = self.b + self.W(X) + self.U(tanh) # [batch_size, n_class]\n",
    "        return output"
   ]
  },
  {
   "cell_type": "code",
   "execution_count": 3,
   "id": "7c076c99",
   "metadata": {},
   "outputs": [],
   "source": [
    "# 制造batch\n",
    "def make_batch():\n",
    "    input_batch = []\n",
    "    target_batch = []\n",
    "    \n",
    "    for sen in sentences:\n",
    "        word = sen.split() # 去掉空格\n",
    "        input = [word_dict[n] for n in word[:-1]] # 创建1到n-1的词作为输入\n",
    "        target = word_dict[word[-1]] # 将第n个词作为target，这种通常称作'casual language model'\n",
    "        \n",
    "        input_batch.append(input)\n",
    "        target_batch.append(target)\n",
    "    \n",
    "    return input_batch, target_batch"
   ]
  },
  {
   "cell_type": "code",
   "execution_count": 12,
   "id": "ea92df29",
   "metadata": {},
   "outputs": [],
   "source": [
    "# 超参数\n",
    "n_step = 2 # 步骤数， 文中的n-1\n",
    "n_hidden = 2 # 隐藏层大小， 文中的h\n",
    "m = 2 # embedding大小，文中的m\n",
    "\n",
    "sentences = ['i like dog', 'i love coffee', 'i hate milk']\n",
    "\n",
    "word_list = \" \".join(sentences).split()\n",
    "word_list = list(set(word_list))\n",
    "word_dict = {w: i for i, w in enumerate(word_list)}\n",
    "number_dict = {i: w for i, w in enumerate(word_list)}\n",
    "n_class = len(word_dict) # 词典大小\n",
    "\n",
    "model = NNLM()\n",
    "\n",
    "criterion = nn.CrossEntropyLoss()\n",
    "optimizer =optim.Adam(model.parameters(), lr=0.001)\n",
    "\n",
    "input_batch, target_batch = make_batch()\n",
    "input_batch = torch.LongTensor(input_batch)\n",
    "target_batch = torch.LongTensor(target_batch)"
   ]
  },
  {
   "cell_type": "code",
   "execution_count": 13,
   "id": "798fe846",
   "metadata": {},
   "outputs": [
    {
     "name": "stdout",
     "output_type": "stream",
     "text": [
      "Epoch: 1000 cost = 0.052230\n",
      "Epoch: 2000 cost = 0.009138\n",
      "Epoch: 3000 cost = 0.003213\n",
      "Epoch: 4000 cost = 0.001457\n",
      "Epoch: 5000 cost = 0.000741\n",
      "[['i', 'like'], ['i', 'love'], ['i', 'hate']] -> ['dog', 'coffee', 'milk']\n"
     ]
    }
   ],
   "source": [
    "# training\n",
    "for epoch in range(5000):\n",
    "    optimizer.zero_grad()\n",
    "    output = model(input_batch)\n",
    "    \n",
    "    # output: [batch_size, n_class] target_batch:[batch_size]\n",
    "    loss = criterion(output, target_batch)\n",
    "    if (epoch + 1) % 1000 == 0:\n",
    "            print('Epoch:', '%04d' % (epoch + 1), 'cost =', '{:.6f}'.format(loss))\n",
    "    \n",
    "    loss.backward()\n",
    "    optimizer.step()\n",
    "\n",
    "predict = model(input_batch).data.max(1, keepdim=True)[1]\n",
    "\n",
    "# TEST\n",
    "print([sen.split()[:2] for sen in sentences], '->', [number_dict[n.item()] for n in predict.squeeze()])"
   ]
  },
  {
   "cell_type": "code",
   "execution_count": 18,
   "id": "06e5b2bc",
   "metadata": {},
   "outputs": [
    {
     "name": "stdout",
     "output_type": "stream",
     "text": [
      "tensor([[6],\n",
      "        [2],\n",
      "        [0]])\n",
      "{0: 'milk', 1: 'love', 2: 'coffee', 3: 'like', 4: 'i', 5: 'hate', 6: 'dog'}\n",
      "tensor([[ 1.8795, -2.3168,  2.7281, -2.2479, -1.5696, -2.4741, 10.0732],\n",
      "        [-0.0236, -1.8379,  9.1519, -1.1050, -1.5363, -0.7063,  1.5923],\n",
      "        [ 9.9022, -2.0445,  0.6372, -0.7818, -0.6095, -0.3977,  1.9202]],\n",
      "       grad_fn=<AddBackward0>)\n"
     ]
    }
   ],
   "source": [
    "print(predict)\n",
    "print(number_dict)\n",
    "print(model(input_batch))\n",
    "# 模型输出向量维度[batch_size, n_class]，本质是词典大小下每个词的概率，取其中最大的作为预测词。"
   ]
  }
 ],
 "metadata": {
  "kernelspec": {
   "display_name": "Python 3",
   "language": "python",
   "name": "python3"
  },
  "language_info": {
   "codemirror_mode": {
    "name": "ipython",
    "version": 3
   },
   "file_extension": ".py",
   "mimetype": "text/x-python",
   "name": "python",
   "nbconvert_exporter": "python",
   "pygments_lexer": "ipython3",
   "version": "3.7.7"
  }
 },
 "nbformat": 4,
 "nbformat_minor": 5
}
