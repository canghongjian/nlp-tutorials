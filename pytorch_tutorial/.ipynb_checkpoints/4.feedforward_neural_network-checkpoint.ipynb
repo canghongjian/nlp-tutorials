{
 "cells": [
  {
   "cell_type": "code",
   "execution_count": 1,
   "id": "ccb494a5",
   "metadata": {},
   "outputs": [],
   "source": [
    "import torch\n",
    "import torch.nn as nn\n",
    "import torchvision\n",
    "import torchvision.transforms as transforms\n",
    "\n",
    "# Device configuration\n",
    "device = torch.device('cuda' if torch.cuda.is_available() else 'cpu')\n",
    "\n",
    "# Hyper-parameters \n",
    "input_size = 784\n",
    "hidden_size = 500\n",
    "num_classes = 10\n",
    "num_epochs = 5\n",
    "batch_size = 100\n",
    "learning_rate = 0.001\n"
   ]
  },
  {
   "cell_type": "code",
   "execution_count": 2,
   "id": "0fdc1a16",
   "metadata": {},
   "outputs": [
    {
     "name": "stdout",
     "output_type": "stream",
     "text": [
      "0\n",
      "4\n",
      "GeForce RTX 2080 Ti\n",
      "True\n"
     ]
    }
   ],
   "source": [
    "print(torch.cuda.current_device())\n",
    "print(torch.cuda.device_count())\n",
    "print(torch.cuda.get_device_name())\n",
    "print(torch.cuda.is_available())"
   ]
  },
  {
   "cell_type": "code",
   "execution_count": 3,
   "id": "ffd7f2ee",
   "metadata": {},
   "outputs": [],
   "source": [
    "# MNIST dataset \n",
    "train_dataset = torchvision.datasets.MNIST(root='../../data', \n",
    "                                           train=True, \n",
    "                                           transform=transforms.ToTensor(),  \n",
    "                                           download=True)\n",
    "\n",
    "test_dataset = torchvision.datasets.MNIST(root='../../data', \n",
    "                                          train=False, \n",
    "                                          transform=transforms.ToTensor())\n",
    "\n",
    "# Data loader\n",
    "train_loader = torch.utils.data.DataLoader(dataset=train_dataset, \n",
    "                                           batch_size=batch_size, \n",
    "                                           shuffle=True)\n",
    "\n",
    "test_loader = torch.utils.data.DataLoader(dataset=test_dataset, \n",
    "                                          batch_size=batch_size, \n",
    "                                          shuffle=False)"
   ]
  },
  {
   "cell_type": "code",
   "execution_count": 4,
   "id": "9afff482",
   "metadata": {},
   "outputs": [],
   "source": [
    "# 全连接神经网络带有一个隐藏层\n",
    "class NeuralNet(nn.Module):\n",
    "    def __init__(self, input_size, hidden_size, num_classes):\n",
    "        super(NeuralNet, self).__init__()\n",
    "        self.fc1 = nn.Linear(input_size, hidden_size)\n",
    "        self.relu = nn.ReLU()\n",
    "        self.fc2 = nn.Linear(hidden_size, num_classes)\n",
    "        \n",
    "    def forward(self, x):\n",
    "        out = self.fc1(x)\n",
    "        out = self.relu(out)\n",
    "        out = self.fc2(out)\n",
    "        return out\n",
    "    \n",
    "model = NeuralNet(input_size, hidden_size, num_classes).to(device)\n",
    "\n",
    "# Loss and optimizer\n",
    "criterion = nn.CrossEntropyLoss()\n",
    "optimizer = torch.optim.Adam(model.parameters(), lr=learning_rate)  \n"
   ]
  },
  {
   "cell_type": "code",
   "execution_count": 7,
   "id": "a6c63971",
   "metadata": {},
   "outputs": [],
   "source": [
    "# 使用多GPU，奇怪的是反而速度变慢了   单GPU：time cost: 37.627745389938354  多GPU：time cost: 56.995373249053955\n",
    "# device = torch.device(\"cuda:0\" if torch.cuda.is_available() else \"cpu\")  \n",
    "# if torch.cuda.device_count() > 1:\n",
    " \n",
    "#     model = nn.DataParallel(model, device_ids=[0,1,2])\n",
    "    \n",
    "#     model.to(device)"
   ]
  },
  {
   "cell_type": "code",
   "execution_count": 8,
   "id": "2ce7a0d6",
   "metadata": {},
   "outputs": [
    {
     "name": "stdout",
     "output_type": "stream",
     "text": [
      "Epoch [1/5], Step [100/600], Loss: 0.0447\n",
      "Epoch [1/5], Step [200/600], Loss: 0.0330\n",
      "Epoch [1/5], Step [300/600], Loss: 0.0280\n",
      "Epoch [1/5], Step [400/600], Loss: 0.0294\n",
      "Epoch [1/5], Step [500/600], Loss: 0.0815\n",
      "Epoch [1/5], Step [600/600], Loss: 0.0546\n",
      "Epoch [2/5], Step [100/600], Loss: 0.0468\n",
      "Epoch [2/5], Step [200/600], Loss: 0.0242\n",
      "Epoch [2/5], Step [300/600], Loss: 0.0248\n",
      "Epoch [2/5], Step [400/600], Loss: 0.0453\n",
      "Epoch [2/5], Step [500/600], Loss: 0.0181\n",
      "Epoch [2/5], Step [600/600], Loss: 0.0051\n",
      "Epoch [3/5], Step [100/600], Loss: 0.0041\n",
      "Epoch [3/5], Step [200/600], Loss: 0.0064\n",
      "Epoch [3/5], Step [300/600], Loss: 0.0542\n",
      "Epoch [3/5], Step [400/600], Loss: 0.0163\n",
      "Epoch [3/5], Step [500/600], Loss: 0.0085\n",
      "Epoch [3/5], Step [600/600], Loss: 0.0118\n",
      "Epoch [4/5], Step [100/600], Loss: 0.0061\n",
      "Epoch [4/5], Step [200/600], Loss: 0.0126\n",
      "Epoch [4/5], Step [300/600], Loss: 0.0113\n",
      "Epoch [4/5], Step [400/600], Loss: 0.0061\n",
      "Epoch [4/5], Step [500/600], Loss: 0.0157\n",
      "Epoch [4/5], Step [600/600], Loss: 0.0426\n",
      "Epoch [5/5], Step [100/600], Loss: 0.0052\n",
      "Epoch [5/5], Step [200/600], Loss: 0.0041\n",
      "Epoch [5/5], Step [300/600], Loss: 0.0028\n",
      "Epoch [5/5], Step [400/600], Loss: 0.0271\n",
      "Epoch [5/5], Step [500/600], Loss: 0.0074\n",
      "Epoch [5/5], Step [600/600], Loss: 0.0545\n",
      "time cost: 56.995373249053955\n"
     ]
    }
   ],
   "source": [
    "import time\n",
    "# Train the model\n",
    "sT = time.time()\n",
    "total_step = len(train_loader)\n",
    "for epoch in range(num_epochs):\n",
    "    for i, (images, labels) in enumerate(train_loader):\n",
    "        # Move tensors to the configured device\n",
    "        images = images.reshape(-1, 28*28).to(device) # 将数据放到GPU上，以后的运算都在GPU上进行，加快速度 注意保证参与运算的数据都这么处理\n",
    "        labels = labels.to(device)\n",
    "        \n",
    "        # Forward pass\n",
    "        outputs = model(images)\n",
    "        loss = criterion(outputs, labels)\n",
    "        \n",
    "        # Backward and optimize\n",
    "        optimizer.zero_grad()\n",
    "        loss.backward()\n",
    "        optimizer.step()\n",
    "        \n",
    "        if (i+1) % 100 == 0:\n",
    "            print ('Epoch [{}/{}], Step [{}/{}], Loss: {:.4f}' \n",
    "                   .format(epoch+1, num_epochs, i+1, total_step, loss.item()))\n",
    "eT = time.time()\n",
    "print(\"time cost:\", eT-sT)"
   ]
  },
  {
   "cell_type": "code",
   "execution_count": 15,
   "id": "a86a89a2",
   "metadata": {},
   "outputs": [
    {
     "name": "stdout",
     "output_type": "stream",
     "text": [
      "Accuracy of the network on the 10000 test images: 97.85 %\n"
     ]
    }
   ],
   "source": [
    "# Test the model\n",
    "# In test phase, we don't need to compute gradients (for memory efficiency)\n",
    "with torch.no_grad():\n",
    "    correct = 0\n",
    "    total = 0\n",
    "    for images, labels in test_loader:\n",
    "        images = images.reshape(-1, 28*28).to(device)\n",
    "        labels = labels.to(device)\n",
    "        outputs = model(images)\n",
    "        _, predicted = torch.max(outputs.data, 1)\n",
    "        total += labels.size(0)\n",
    "        correct += (predicted == labels).sum().item()\n",
    "    \n",
    "    print('Accuracy of the network on the 10000 test images: {} %'.format(100 * correct / total))\n",
    "\n",
    "# Save the model checkpoint\n",
    "torch.save(model.state_dict(), 'model.ckpt')"
   ]
  },
  {
   "cell_type": "code",
   "execution_count": null,
   "id": "114acd6f",
   "metadata": {},
   "outputs": [],
   "source": []
  }
 ],
 "metadata": {
  "kernelspec": {
   "display_name": "Python 3",
   "language": "python",
   "name": "python3"
  },
  "language_info": {
   "codemirror_mode": {
    "name": "ipython",
    "version": 3
   },
   "file_extension": ".py",
   "mimetype": "text/x-python",
   "name": "python",
   "nbconvert_exporter": "python",
   "pygments_lexer": "ipython3",
   "version": "3.7.7"
  }
 },
 "nbformat": 4,
 "nbformat_minor": 5
}
