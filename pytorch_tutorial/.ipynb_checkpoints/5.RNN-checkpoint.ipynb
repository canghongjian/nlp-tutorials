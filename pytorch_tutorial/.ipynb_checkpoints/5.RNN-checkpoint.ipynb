{
 "cells": [
  {
   "cell_type": "code",
   "execution_count": 1,
   "id": "5d84f604",
   "metadata": {},
   "outputs": [],
   "source": [
    "# implemention of recurrent_neural_network\n",
    "import torch \n",
    "import torch.nn as nn\n",
    "import torchvision\n",
    "import torchvision.transforms as transforms\n",
    "\n",
    "\n",
    "# Device configuration\n",
    "device = torch.device('cuda' if torch.cuda.is_available() else 'cpu')"
   ]
  },
  {
   "cell_type": "code",
   "execution_count": 2,
   "id": "dbf58814",
   "metadata": {},
   "outputs": [],
   "source": [
    "# 超参数\n",
    "sequence_length = 28\n",
    "input_size = 28\n",
    "hidden_size = 128\n",
    "num_layers = 2\n",
    "num_classes = 10\n",
    "batch_size = 100\n",
    "num_epochs = 2\n",
    "learning_rate = 0.01\n",
    "\n",
    "# MNIST dataset\n",
    "train_dataset = torchvision.datasets.MNIST(root='../../data/',\n",
    "                                           train=True, \n",
    "                                           transform=transforms.ToTensor(),\n",
    "                                           download=True)\n",
    "\n",
    "test_dataset = torchvision.datasets.MNIST(root='../../data/',\n",
    "                                          train=False, \n",
    "                                          transform=transforms.ToTensor())\n",
    "\n",
    "# Data loader\n",
    "train_loader = torch.utils.data.DataLoader(dataset=train_dataset,\n",
    "                                           batch_size=batch_size, \n",
    "                                           shuffle=True)\n",
    "\n",
    "test_loader = torch.utils.data.DataLoader(dataset=test_dataset,\n",
    "                                          batch_size=batch_size, \n",
    "                                          shuffle=False)"
   ]
  },
  {
   "cell_type": "code",
   "execution_count": 4,
   "id": "0f50c78b",
   "metadata": {},
   "outputs": [
    {
     "name": "stdout",
     "output_type": "stream",
     "text": [
      "torch.Size([5, 3, 20]) torch.Size([2, 3, 20]) torch.Size([2, 3, 20])\n"
     ]
    }
   ],
   "source": [
    "# 理解LSTM的例子\n",
    "\n",
    "\n",
    "# 输入的input为，序列长度seq_len=5, 每次取的minibatch大小，batch_size=3, 数据向量维数=10（仍然为x的维度）。每次运行时取3个含有5个字的句子（且句子中每个字的维度为10进行运行）\n",
    "input1 = torch.randn(5, 3, 10)\n",
    "\n",
    "# 输入数据x的向量维数10，设定lstm隐藏层的特征维度20，此model用2个lstm\n",
    "rnn = nn.LSTM(10, 20, 2)\n",
    "\n",
    "# 初始化隐藏元和记忆元，通常它们的维度相同\n",
    "# 2个LSTM层，batch_size = 3,隐藏层维度20\n",
    "h_0 = torch.randn(2, 3, 20)\n",
    "c_0 = torch.randn(2, 3, 20)\n",
    "\n",
    "# 这里有2层lstm，output是最后一层lstm的每个词向量对应隐藏层的输出，与其层数无关，只与序列长度有关\n",
    "# hn，cn是所有层最后一个隐藏元和记忆元的输出\n",
    "output, (h_n, c_n) = rnn(input1, (h_0, c_0))\n",
    "print(output.shape, h_n.shape, c_n.shape)"
   ]
  },
  {
   "cell_type": "code",
   "execution_count": 6,
   "id": "3f6d2e2d",
   "metadata": {},
   "outputs": [],
   "source": [
    "# RNN (many to one)\n",
    "class RNN(nn.Module):\n",
    "    def __init__(self, input_size, hidden_size, num_layers, num_classes):\n",
    "        super(RNN, self).__init__()\n",
    "        self.hidden_size = hidden_size\n",
    "        self.num_layers = num_layers\n",
    "        self.lstm = nn.LSTM(input_size, hidden_size, num_layers, batch_first=True)\n",
    "        self.fc = nn.Linear(hidden_size, num_classes)\n",
    "    \n",
    "    def forward(self, x):\n",
    "        # Set initial hidden and cell states\n",
    "        h0 = torch.zeros(self.num_layers, x.size(0), self.hidden_size).to(device)\n",
    "        c0 = torch.zeros(self.num_layers, x.size(0), self.hidden_size).to(device)\n",
    "        \n",
    "        # Forward propagate LSTM\n",
    "        out, _ = self.lstm(x, (h0, c0)) # out:tensor of shape(batch_size, seq_length, hidden_size)\n",
    "        \n",
    "        # Decode the hidden state of the last time step\n",
    "        out = self.fc(out[:, -1, :]) # -1代表只取最后一个输出o[n-1],因为o[n-1]中体现了网络对一整个序列的认识（提取的特征），故取o[n-1]。\n",
    "        # 取到o[n-1]后，我们再通过一个全连接层将o[n-1]映射到一个维度为output_dim的向量，向量的每一维就是网络对每一类别的预测置信度。\n",
    "        return out\n"
   ]
  },
  {
   "cell_type": "code",
   "execution_count": 7,
   "id": "ef69a9b6",
   "metadata": {},
   "outputs": [
    {
     "name": "stdout",
     "output_type": "stream",
     "text": [
      "Epoch [1/2], Step [100/600], Loss: 0.6161\n",
      "Epoch [1/2], Step [200/600], Loss: 0.3192\n",
      "Epoch [1/2], Step [300/600], Loss: 0.1444\n",
      "Epoch [1/2], Step [400/600], Loss: 0.0966\n",
      "Epoch [1/2], Step [500/600], Loss: 0.2986\n",
      "Epoch [1/2], Step [600/600], Loss: 0.0287\n",
      "Epoch [2/2], Step [100/600], Loss: 0.1227\n",
      "Epoch [2/2], Step [200/600], Loss: 0.0857\n",
      "Epoch [2/2], Step [300/600], Loss: 0.0668\n",
      "Epoch [2/2], Step [400/600], Loss: 0.0184\n",
      "Epoch [2/2], Step [500/600], Loss: 0.0349\n",
      "Epoch [2/2], Step [600/600], Loss: 0.0505\n",
      "Test Accuracy of the model on the 10000 test images: 96.89 %\n"
     ]
    }
   ],
   "source": [
    "model = RNN(input_size, hidden_size, num_layers, num_classes).to(device)\n",
    "\n",
    "\n",
    "# Loss and optimizer\n",
    "criterion = nn.CrossEntropyLoss()\n",
    "optimizer = torch.optim.Adam(model.parameters(), lr=learning_rate)\n",
    "\n",
    "# Train the model\n",
    "total_step = len(train_loader)\n",
    "for epoch in range(num_epochs):\n",
    "    for i, (images, labels) in enumerate(train_loader):\n",
    "        images = images.reshape(-1, sequence_length, input_size).to(device)\n",
    "        labels = labels.to(device)\n",
    "        \n",
    "        # Forward pass\n",
    "        outputs = model(images)\n",
    "        loss = criterion(outputs, labels)\n",
    "        \n",
    "        # Backward and optimize\n",
    "        optimizer.zero_grad()\n",
    "        loss.backward()\n",
    "        optimizer.step()\n",
    "        \n",
    "        if (i+1) % 100 == 0:\n",
    "            print ('Epoch [{}/{}], Step [{}/{}], Loss: {:.4f}' \n",
    "                   .format(epoch+1, num_epochs, i+1, total_step, loss.item()))\n",
    "\n",
    "# Test the model\n",
    "model.eval()\n",
    "with torch.no_grad():\n",
    "    correct = 0\n",
    "    total = 0\n",
    "    for images, labels in test_loader:\n",
    "        images = images.reshape(-1, sequence_length, input_size).to(device)\n",
    "        labels = labels.to(device)\n",
    "        outputs = model(images)\n",
    "        _, predicted = torch.max(outputs.data, 1)\n",
    "        total += labels.size(0)\n",
    "        correct += (predicted == labels).sum().item()\n",
    "\n",
    "    print('Test Accuracy of the model on the 10000 test images: {} %'.format(100 * correct / total)) \n",
    "\n",
    "# Save the model checkpoint\n",
    "torch.save(model.state_dict(), 'model.ckpt')"
   ]
  },
  {
   "cell_type": "code",
   "execution_count": null,
   "id": "3a02087d",
   "metadata": {},
   "outputs": [],
   "source": []
  }
 ],
 "metadata": {
  "kernelspec": {
   "display_name": "Python 3",
   "language": "python",
   "name": "python3"
  },
  "language_info": {
   "codemirror_mode": {
    "name": "ipython",
    "version": 3
   },
   "file_extension": ".py",
   "mimetype": "text/x-python",
   "name": "python",
   "nbconvert_exporter": "python",
   "pygments_lexer": "ipython3",
   "version": "3.7.7"
  }
 },
 "nbformat": 4,
 "nbformat_minor": 5
}
