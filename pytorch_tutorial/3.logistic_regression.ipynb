{
 "cells": [
  {
   "cell_type": "code",
   "execution_count": 1,
   "id": "fe93935f",
   "metadata": {},
   "outputs": [],
   "source": [
    "import torch\n",
    "import torch.nn as nn\n",
    "import torchvision\n",
    "import torchvision.transforms as transforms\n",
    "\n",
    "# 超参数\n",
    "input_size = 28 * 28 # 784\n",
    "num_classes = 10\n",
    "num_epochs = 5\n",
    "batch_size = 100\n",
    "learning_rate = 0.001"
   ]
  },
  {
   "cell_type": "code",
   "execution_count": 5,
   "id": "90fed241",
   "metadata": {},
   "outputs": [
    {
     "name": "stdout",
     "output_type": "stream",
     "text": [
      "Using downloaded and verified file: ../../data/MNIST/raw/train-images-idx3-ubyte.gz\n",
      "Extracting ../../data/MNIST/raw/train-images-idx3-ubyte.gz to ../../data/MNIST/raw\n",
      "Using downloaded and verified file: ../../data/MNIST/raw/train-labels-idx1-ubyte.gz\n",
      "Extracting ../../data/MNIST/raw/train-labels-idx1-ubyte.gz to ../../data/MNIST/raw\n",
      "Using downloaded and verified file: ../../data/MNIST/raw/t10k-images-idx3-ubyte.gz\n",
      "Extracting ../../data/MNIST/raw/t10k-images-idx3-ubyte.gz to ../../data/MNIST/raw\n",
      "Using downloaded and verified file: ../../data/MNIST/raw/t10k-labels-idx1-ubyte.gz\n",
      "Extracting ../../data/MNIST/raw/t10k-labels-idx1-ubyte.gz to ../../data/MNIST/raw\n",
      "Processing...\n",
      "Done!\n"
     ]
    },
    {
     "name": "stderr",
     "output_type": "stream",
     "text": [
      "/opt/conda/lib/python3.7/site-packages/torchvision/datasets/mnist.py:469: UserWarning: The given NumPy array is not writeable, and PyTorch does not support non-writeable tensors. This means you can write to the underlying (supposedly non-writeable) NumPy array using the tensor. You may want to copy the array to protect its data or make it writeable before converting it to a tensor. This type of warning will be suppressed for the rest of this program. (Triggered internally at  /opt/conda/conda-bld/pytorch_1595629403081/work/torch/csrc/utils/tensor_numpy.cpp:141.)\n",
      "  return torch.from_numpy(parsed.astype(m[2], copy=False)).view(*s)\n"
     ]
    }
   ],
   "source": [
    "# MNIST dataset(images and labels)\n",
    "train_dataset = torchvision.datasets.MNIST(root='../../data',\n",
    "                                          train=True,\n",
    "                                          transform=transforms.ToTensor(),\n",
    "                                          download=True)\n",
    "\n",
    "test_dataset = torchvision.datasets.MNIST(root='../../data',\n",
    "                                          train=False,\n",
    "                                          transform=transforms.ToTensor())"
   ]
  },
  {
   "cell_type": "code",
   "execution_count": 7,
   "id": "09396c67",
   "metadata": {},
   "outputs": [],
   "source": [
    "# Data loader (input pipeline)\n",
    "train_loader = torch.utils.data.DataLoader(dataset=train_dataset,\n",
    "                                          batch_size=batch_size,\n",
    "                                          shuffle=True)\n",
    "\n",
    "test_loader = torch.utils.data.DataLoader(dataset=test_dataset,\n",
    "                                         batch_size=batch_size,\n",
    "                                         shuffle=True)\n",
    "\n",
    "# Logistic regression model\n",
    "model = nn.Linear(input_size, num_classes)\n",
    "\n",
    "# Loss and optimizer\n",
    "# nn.CrossEntropyLoss() computes softmax internally\n",
    "criterion = nn.CrossEntropyLoss()\n",
    "optimizer = torch.optim.SGD(model.parameters(), lr=learning_rate)"
   ]
  },
  {
   "cell_type": "code",
   "execution_count": 21,
   "id": "0974a6e2",
   "metadata": {},
   "outputs": [
    {
     "name": "stdout",
     "output_type": "stream",
     "text": [
      "Epoch [1/5], Step [100/600], Loss: 1.1280\n",
      "Epoch [1/5], Step [200/600], Loss: 1.0716\n",
      "Epoch [1/5], Step [300/600], Loss: 0.9686\n",
      "Epoch [1/5], Step [400/600], Loss: 0.8591\n",
      "Epoch [1/5], Step [500/600], Loss: 1.0241\n",
      "Epoch [1/5], Step [600/600], Loss: 0.9433\n",
      "Epoch [2/5], Step [100/600], Loss: 0.8632\n",
      "Epoch [2/5], Step [200/600], Loss: 1.0827\n",
      "Epoch [2/5], Step [300/600], Loss: 0.8349\n",
      "Epoch [2/5], Step [400/600], Loss: 0.7945\n",
      "Epoch [2/5], Step [500/600], Loss: 0.8526\n",
      "Epoch [2/5], Step [600/600], Loss: 0.9601\n",
      "Epoch [3/5], Step [100/600], Loss: 0.7876\n",
      "Epoch [3/5], Step [200/600], Loss: 0.8836\n",
      "Epoch [3/5], Step [300/600], Loss: 0.7509\n",
      "Epoch [3/5], Step [400/600], Loss: 0.9212\n",
      "Epoch [3/5], Step [500/600], Loss: 0.8154\n",
      "Epoch [3/5], Step [600/600], Loss: 0.7792\n",
      "Epoch [4/5], Step [100/600], Loss: 0.8828\n",
      "Epoch [4/5], Step [200/600], Loss: 0.7301\n",
      "Epoch [4/5], Step [300/600], Loss: 0.7717\n",
      "Epoch [4/5], Step [400/600], Loss: 0.7444\n",
      "Epoch [4/5], Step [500/600], Loss: 0.7972\n",
      "Epoch [4/5], Step [600/600], Loss: 0.7731\n",
      "Epoch [5/5], Step [100/600], Loss: 0.7829\n",
      "Epoch [5/5], Step [200/600], Loss: 0.7315\n",
      "Epoch [5/5], Step [300/600], Loss: 0.8551\n",
      "Epoch [5/5], Step [400/600], Loss: 0.6730\n",
      "Epoch [5/5], Step [500/600], Loss: 0.7830\n",
      "Epoch [5/5], Step [600/600], Loss: 0.6453\n"
     ]
    }
   ],
   "source": [
    "# Train the model\n",
    "total_step = len(train_loader) # 600\n",
    "for epoch in range(num_epochs):\n",
    "    for i, (images, labels) in enumerate(train_loader):\n",
    "        # Reshape images to (batch_size, input_size)\n",
    "        # images shape: [100, 1, 28, 28]\n",
    "        images = images.reshape(-1, input_size) # shape: [100, 784]  reshape: -1代表n，n=tensor长度或第一个参数\n",
    "        \n",
    "        # Forward pass\n",
    "        outputs = model(images)\n",
    "        loss = criterion(outputs, labels)\n",
    "        \n",
    "        # Backward and optimize\n",
    "        optimizer.zero_grad()\n",
    "        loss.backward()\n",
    "        optimizer.step()\n",
    "        \n",
    "        if (i+1) % 100 == 0:\n",
    "            print ('Epoch [{}/{}], Step [{}/{}], Loss: {:.4f}' \n",
    "                   .format(epoch+1, num_epochs, i+1, total_step, loss.item()))"
   ]
  },
  {
   "cell_type": "code",
   "execution_count": 28,
   "id": "c635fb84",
   "metadata": {},
   "outputs": [
    {
     "name": "stdout",
     "output_type": "stream",
     "text": [
      "torch.Size([100, 10])\n",
      "torch.return_types.max(\n",
      "values=tensor([4.0755, 3.8094, 4.2493, 3.5494, 2.6239, 3.7539, 1.8301, 3.6083, 3.1623,\n",
      "        2.9132, 2.6634, 1.6897, 3.2715, 1.7028, 1.9759, 3.0264, 2.2824, 2.0395,\n",
      "        2.9465, 2.2362, 1.7586, 3.7288, 2.1852, 2.0734, 2.2541, 2.8022, 2.2344,\n",
      "        4.5467, 2.5336, 3.0702, 4.1295, 3.6030, 3.0095, 2.6841, 3.2989, 1.5381,\n",
      "        3.2803, 2.1707, 1.9896, 3.4693, 5.4446, 3.4092, 4.1417, 1.7698, 3.5430,\n",
      "        1.3222, 2.2853, 2.0011, 2.6512, 4.2554, 2.9383, 3.6291, 1.2396, 3.1527,\n",
      "        5.9144, 1.9753, 3.0631, 2.0369, 2.3044, 3.7665, 3.9284, 3.1410, 3.4755,\n",
      "        1.8517, 2.5469, 1.7817, 2.7831, 1.8478, 3.2798, 3.9560, 1.6743, 4.6303,\n",
      "        3.2101, 2.6776, 3.5639, 1.6436, 1.0852, 3.5735, 0.9954, 1.4400, 3.4548,\n",
      "        3.3592, 2.1535, 2.6413, 2.0095, 1.0672, 2.8921, 2.9305, 2.3872, 3.0677,\n",
      "        2.7775, 2.5833, 3.7453, 2.3513, 3.7404, 3.2345, 1.7227, 1.5233, 5.6059,\n",
      "        1.4000]),\n",
      "indices=tensor([0, 7, 6, 7, 0, 1, 8, 5, 7, 6, 8, 5, 0, 1, 8, 0, 7, 8, 9, 3, 5, 2, 9, 0,\n",
      "        0, 1, 8, 6, 4, 7, 2, 3, 4, 2, 0, 5, 4, 9, 0, 5, 7, 5, 2, 6, 8, 4, 3, 7,\n",
      "        8, 0, 9, 8, 5, 3, 0, 2, 8, 6, 9, 6, 3, 9, 1, 5, 9, 3, 2, 4, 1, 5, 5, 2,\n",
      "        3, 9, 9, 5, 8, 3, 8, 8, 9, 6, 7, 8, 1, 6, 1, 8, 8, 8, 4, 3, 1, 4, 1, 1,\n",
      "        0, 8, 0, 2]))\n"
     ]
    }
   ],
   "source": [
    "it = iter(test_loader)\n",
    "images, labels = it.next()\n",
    "images = images.reshape(-1, input_size)\n",
    "print(model(images).shape)\n",
    "print(torch.max(model(images).data, 1))"
   ]
  },
  {
   "cell_type": "code",
   "execution_count": 27,
   "id": "137afb5a",
   "metadata": {},
   "outputs": [
    {
     "ename": "IndexError",
     "evalue": "Dimension out of range (expected to be in range of [-1, 0], but got 1)",
     "output_type": "error",
     "traceback": [
      "\u001b[0;31m---------------------------------------------------------------------------\u001b[0m",
      "\u001b[0;31mIndexError\u001b[0m                                Traceback (most recent call last)",
      "\u001b[0;32m<ipython-input-27-1e88fdc671c1>\u001b[0m in \u001b[0;36m<module>\u001b[0;34m\u001b[0m\n\u001b[0;32m----> 1\u001b[0;31m \u001b[0mprint\u001b[0m\u001b[0;34m(\u001b[0m\u001b[0mlabels\u001b[0m\u001b[0;34m.\u001b[0m\u001b[0msize\u001b[0m\u001b[0;34m(\u001b[0m\u001b[0;36m1\u001b[0m\u001b[0;34m)\u001b[0m\u001b[0;34m)\u001b[0m\u001b[0;34m\u001b[0m\u001b[0;34m\u001b[0m\u001b[0m\n\u001b[0m",
      "\u001b[0;31mIndexError\u001b[0m: Dimension out of range (expected to be in range of [-1, 0], but got 1)"
     ]
    }
   ],
   "source": [
    "print(labels.size(1))"
   ]
  },
  {
   "cell_type": "code",
   "execution_count": 36,
   "id": "31bbf3ea",
   "metadata": {},
   "outputs": [
    {
     "name": "stdout",
     "output_type": "stream",
     "text": [
      "Accuracy of the model on the 10000 test images: 85.49 %\n"
     ]
    }
   ],
   "source": [
    "# Test the model\n",
    "# In test phase, we don't need to compute gradients(for memory efficiency)\n",
    "with torch.no_grad():\n",
    "    correct = 0\n",
    "    total = 0\n",
    "    for images, labels in test_loader:\n",
    "        images = images.reshape(-1, input_size)\n",
    "        outputs = model(images)\n",
    "        _, predicted = torch.max(outputs.data, 1) #torch.max(input, dim) dim是max函数索引的维度，dim=1表示取每行的最大值，返回值为两个tensor，第一个是每行最大值，第二个是对应的索引位置\n",
    "        total += labels.size(0) # labels长度 即有多少个标签\n",
    "        correct += (predicted == labels).sum()\n",
    "    \n",
    "    correct = correct.item()\n",
    "    print('Accuracy of the model on the 10000 test images: {} %'.format(100 * correct/total))\n",
    "\n",
    "# Save the model checkpoint\n",
    "torch.save(model.state_dict(), 'logistic_regression_model.ckpt')"
   ]
  }
 ],
 "metadata": {
  "kernelspec": {
   "display_name": "Python 3",
   "language": "python",
   "name": "python3"
  },
  "language_info": {
   "codemirror_mode": {
    "name": "ipython",
    "version": 3
   },
   "file_extension": ".py",
   "mimetype": "text/x-python",
   "name": "python",
   "nbconvert_exporter": "python",
   "pygments_lexer": "ipython3",
   "version": "3.7.7"
  }
 },
 "nbformat": 4,
 "nbformat_minor": 5
}
