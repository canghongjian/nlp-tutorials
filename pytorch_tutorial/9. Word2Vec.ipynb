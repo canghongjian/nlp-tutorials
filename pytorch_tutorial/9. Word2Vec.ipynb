{
 "cells": [
  {
   "cell_type": "code",
   "execution_count": 1,
   "id": "ef8c2d33",
   "metadata": {},
   "outputs": [],
   "source": [
    "# 本文实现Skipgram的Word2Vec，采用softmax (实际应该是CBOW)\n",
    "import numpy as np\n",
    "import torch\n",
    "import torch.nn as nn\n",
    "import torch.optim as optim\n",
    "import matplotlib.pyplot as plt"
   ]
  },
  {
   "cell_type": "code",
   "execution_count": 3,
   "id": "1601bdf1",
   "metadata": {},
   "outputs": [],
   "source": [
    "def random_batch():\n",
    "    random_inputs = []\n",
    "    random_labels = []\n",
    "    random_index = np.random.choice(range(len(skip_grams)), batch_size, replace=False)\n",
    "    \n",
    "    for i in random_index:\n",
    "        random_inputs.append(np.eye(voc_size)[skip_grams[i][0]]) # target\n",
    "        random_labels.append(skip_grams[i][1]) # context word\n",
    "    \n",
    "    return random_inputs, random_labels"
   ]
  },
  {
   "cell_type": "code",
   "execution_count": 4,
   "id": "6d0c537b",
   "metadata": {},
   "outputs": [],
   "source": [
    "# Model\n",
    "class Word2Vec(nn.Module):\n",
    "    def __init__(self):\n",
    "        super(Word2Vec, self).__init__()\n",
    "        # W 和 WT并不是转置关系\n",
    "        self.W = nn.Linear(voc_size, embedding_size, bias=False) # voc_size -> embedding_size Weight\n",
    "        self.WT = nn.Linear(embedding_size, voc_size, bias=False) # embedding_size > voc_size Weight\n",
    "        \n",
    "    def forward(self, X):\n",
    "        # X: [batch_size, voc_size]\n",
    "        hidden_layer = self.W(X) # hidden_layer: [batch_size, embedding_size]\n",
    "        output_layer = self.WT(hidden_layer) # output_layer: [batch_size, voc_size]\n",
    "        \n",
    "        return output_layer"
   ]
  },
  {
   "cell_type": "code",
   "execution_count": 5,
   "id": "68dcd37d",
   "metadata": {},
   "outputs": [],
   "source": [
    "batch_size = 2\n",
    "embedding_size = 2 # 嵌入层大小\n",
    "sentences = [\"apple banana fruit\", \"banana orange fruit\", \"orange banana fruit\",\"dog cat animal\", \"cat monkey animal\", \"monkey dog animal\"]\n",
    "\n",
    "word_sequence = \" \".join(sentences).split()\n",
    "word_list = \" \".join(sentences).split()\n",
    "word_list = list(set(word_list))\n",
    "word_dict = {w: i for i, w in enumerate(word_list)}\n",
    "voc_size = len(word_list)\n",
    "\n",
    "# 窗口大小为1的skip-gram\n",
    "skip_grams = []\n",
    "for i in range(1, len(word_sequence) - 1):\n",
    "    target = word_dict[word_sequence[i]]\n",
    "    context = [word_dict[word_sequence[i-1]], word_dict[word_sequence[i+1]]]\n",
    "    for w in context:\n",
    "        skip_grams.append([target, w])\n",
    "\n",
    "model = Word2Vec()\n",
    "criterion = nn.CrossEntropyLoss()\n",
    "optimizer = optim.Adam(model.parameters(), lr=0.001)"
   ]
  },
  {
   "cell_type": "code",
   "execution_count": 6,
   "id": "2cd80221",
   "metadata": {},
   "outputs": [
    {
     "name": "stdout",
     "output_type": "stream",
     "text": [
      "Epoch: 1000 cost = 1.677351\n",
      "Epoch: 2000 cost = 1.469793\n",
      "Epoch: 3000 cost = 1.379454\n",
      "Epoch: 4000 cost = 1.647096\n",
      "Epoch: 5000 cost = 1.115684\n"
     ]
    }
   ],
   "source": [
    "# Training\n",
    "for epoch in range(5000):\n",
    "    input_batch, target_batch = random_batch()\n",
    "    input_batch = torch.Tensor(input_batch)\n",
    "    target_batch = torch.LongTensor(target_batch)\n",
    "    \n",
    "    optimizer.zero_grad()\n",
    "    output = model(input_batch)\n",
    "    \n",
    "    # output:[batch_size, voc_size], target_batch : [batch_size] (LongTensor, not one-hot)\n",
    "    loss = criterion(output, target_batch)\n",
    "    if (epoch + 1) % 1000 == 0:\n",
    "        print('Epoch:', '%04d' % (epoch + 1), 'cost =', '{:.6f}'.format(loss))\n",
    "\n",
    "    loss.backward()\n",
    "    optimizer.step()"
   ]
  },
  {
   "cell_type": "code",
   "execution_count": 7,
   "id": "74fa3b34",
   "metadata": {},
   "outputs": [
    {
     "data": {
      "image/png": "[encoded data removed]",
      "text/plain": [
       "<Figure size 432x288 with 1 Axes>"
      ]
     },
     "metadata": {
      "needs_background": "light"
     },
     "output_type": "display_data"
    }
   ],
   "source": [
    "for i, label in enumerate(word_list):\n",
    "    W, WT = model.parameters()\n",
    "    x, y = W[0][i].item(), W[1][i].item()\n",
    "    plt.scatter(x, y)\n",
    "    plt.annotate(label, xy=(x, y), xytext=(5, 2), textcoords='offset points', ha='right', va='bottom')\n",
    "plt.show()"
   ]
  },
  {
   "cell_type": "code",
   "execution_count": 12,
   "id": "904aa809",
   "metadata": {},
   "outputs": [
    {
     "name": "stdout",
     "output_type": "stream",
     "text": [
      "[array([0., 0., 0., 0., 1., 0., 0., 0.]), array([0., 1., 0., 0., 0., 0., 0., 0.])]\n",
      "[1, 4]\n",
      "{'cat': 0, 'fruit': 1, 'monkey': 2, 'apple': 3, 'banana': 4, 'dog': 5, 'orange': 6, 'animal': 7}\n",
      "[[4, 3], [4, 1], [1, 4], [1, 4], [4, 1], [4, 6], [6, 4], [6, 1], [1, 6], [1, 6], [6, 1], [6, 4], [4, 6], [4, 1], [1, 4], [1, 5], [5, 1], [5, 0], [0, 5], [0, 7], [7, 0], [7, 0], [0, 7], [0, 2], [2, 0], [2, 7], [7, 2], [7, 2], [2, 7], [2, 5], [5, 2], [5, 7]]\n",
      "-1.95193350315094\n"
     ]
    }
   ],
   "source": [
    "input_batch, target_batch = random_batch()\n",
    "print(input_batch)\n",
    "print(target_batch)\n",
    "print(word_dict)\n",
    "print(skip_grams)"
   ]
  },
  {
   "cell_type": "code",
   "execution_count": 21,
   "id": "86ebefd1",
   "metadata": {},
   "outputs": [
    {
     "name": "stdout",
     "output_type": "stream",
     "text": [
      "[[0.         1.         0.         0.         0.        ]\n",
      " [0.33333333 0.         0.33333333 0.         0.33333333]\n",
      " [0.         0.33333333 0.         0.33333333 0.33333333]\n",
      " [0.         0.         0.5        0.         0.5       ]\n",
      " [0.         0.33333333 0.33333333 0.33333333 0.        ]]\n"
     ]
    }
   ],
   "source": [
    "# A为图的度矩阵，C为图的邻接矩阵 显示A^(-1) * C矩阵的每一行和为1\n",
    "A = np.array([[1, 0, 0,0,0],\n",
    "[0, 3, 0,0,0],\n",
    "[0, 0, 3,0,0],\n",
    "[0, 0, 0, 2,0],\n",
    "[0, 0, 0,0 ,3]])\n",
    "B = np.linalg.inv(A) # A的逆矩阵\n",
    "C = np.array([[0, 1, 0,0,0],\n",
    "[1, 0, 1,0,1],\n",
    "[0, 1, 0,1,1],\n",
    "[0, 0, 1, 0,1],\n",
    "[0, 1, 1,1,0]])\n",
    "print(np.dot(B, C))"
   ]
  },
  {
   "cell_type": "code",
   "execution_count": null,
   "id": "4e319fce",
   "metadata": {},
   "outputs": [],
   "source": []
  }
 ],
 "metadata": {
  "kernelspec": {
   "display_name": "Python 3",
   "language": "python",
   "name": "python3"
  },
  "language_info": {
   "codemirror_mode": {
    "name": "ipython",
    "version": 3
   },
   "file_extension": ".py",
   "mimetype": "text/x-python",
   "name": "python",
   "nbconvert_exporter": "python",
   "pygments_lexer": "ipython3",
   "version": "3.7.7"
  }
 },
 "nbformat": 4,
 "nbformat_minor": 5
}
